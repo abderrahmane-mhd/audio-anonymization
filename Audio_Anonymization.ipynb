{
  "nbformat": 4,
  "nbformat_minor": 0,
  "metadata": {
    "colab": {
      "provenance": [],
      "gpuType": "T4"
    },
    "kernelspec": {
      "name": "python3",
      "display_name": "Python 3"
    },
    "language_info": {
      "name": "python"
    },
    "accelerator": "GPU"
  },
  "cells": [
    {
      "cell_type": "markdown",
      "source": [
        "# Audio Anonymization\n",
        "\n",
        "[![Open In Colab](https://colab.research.google.com/assets/colab-badge.svg)](https://colab.research.google.com/github/abderrahmane-mhd/audio-anonymization/blob/main/Audio_Anonymization.ipynb)\n",
        "\n",
        "\n",
        "In this notebook, we will explore the process of audio anonymization, which involves three key steps:\n",
        "\n",
        "* Transcribing audio into text using a Speech-to-Text model.\n",
        "* Applying Named Entity Recognition (NER) to identify sensitive information in the text.\n",
        "* Replacing the time ranges of detected entities in the audio with a beep sound."
      ],
      "metadata": {
        "id": "sTJI7TRB92Ag"
      }
    },
    {
      "cell_type": "markdown",
      "source": [
        "## 1. Speech-To-Text Model\n",
        "\n",
        "In this phase we need to transcribe the Audio and get word level timestamps."
      ],
      "metadata": {
        "id": "oq2u5qeb-TTF"
      }
    },
    {
      "cell_type": "code",
      "source": [
        "!pip install git+https://github.com/linto-ai/whisper-timestamped"
      ],
      "metadata": {
        "colab": {
          "base_uri": "https://localhost:8080/"
        },
        "id": "Om-ZyACr8ndA",
        "outputId": "0c111b77-80d2-4cfa-c602-76b9626399e3",
        "collapsed": true
      },
      "execution_count": 1,
      "outputs": [
        {
          "output_type": "stream",
          "name": "stdout",
          "text": [
            "Collecting git+https://github.com/linto-ai/whisper-timestamped\n",
            "  Cloning https://github.com/linto-ai/whisper-timestamped to /tmp/pip-req-build-bzqrrln8\n",
            "  Running command git clone --filter=blob:none --quiet https://github.com/linto-ai/whisper-timestamped /tmp/pip-req-build-bzqrrln8\n",
            "  Resolved https://github.com/linto-ai/whisper-timestamped to commit f69750eae23c586f828744b3a4d6c4785125d84f\n",
            "  Preparing metadata (setup.py) ... \u001b[?25l\u001b[?25hdone\n",
            "Requirement already satisfied: Cython in /usr/local/lib/python3.10/dist-packages (from whisper-timestamped==1.15.8) (3.0.11)\n",
            "Collecting dtw-python (from whisper-timestamped==1.15.8)\n",
            "  Downloading dtw_python-1.5.3-cp310-cp310-manylinux_2_17_x86_64.manylinux2014_x86_64.whl.metadata (48 kB)\n",
            "\u001b[2K     \u001b[90m━━━━━━━━━━━━━━━━━━━━━━━━━━━━━━━━━━━━━━━━\u001b[0m \u001b[32m48.1/48.1 kB\u001b[0m \u001b[31m3.1 MB/s\u001b[0m eta \u001b[36m0:00:00\u001b[0m\n",
            "\u001b[?25hCollecting openai-whisper (from whisper-timestamped==1.15.8)\n",
            "  Downloading openai-whisper-20240930.tar.gz (800 kB)\n",
            "\u001b[2K     \u001b[90m━━━━━━━━━━━━━━━━━━━━━━━━━━━━━━━━━━━━━━━━\u001b[0m \u001b[32m800.5/800.5 kB\u001b[0m \u001b[31m51.6 MB/s\u001b[0m eta \u001b[36m0:00:00\u001b[0m\n",
            "\u001b[?25h  Installing build dependencies ... \u001b[?25l\u001b[?25hdone\n",
            "  Getting requirements to build wheel ... \u001b[?25l\u001b[?25hdone\n",
            "  Preparing metadata (pyproject.toml) ... \u001b[?25l\u001b[?25hdone\n",
            "Requirement already satisfied: scipy in /usr/local/lib/python3.10/dist-packages (from dtw-python->whisper-timestamped==1.15.8) (1.13.1)\n",
            "Requirement already satisfied: numpy>=1.23.5 in /usr/local/lib/python3.10/dist-packages (from dtw-python->whisper-timestamped==1.15.8) (1.26.4)\n",
            "Requirement already satisfied: numba in /usr/local/lib/python3.10/dist-packages (from openai-whisper->whisper-timestamped==1.15.8) (0.60.0)\n",
            "Requirement already satisfied: torch in /usr/local/lib/python3.10/dist-packages (from openai-whisper->whisper-timestamped==1.15.8) (2.5.1+cu121)\n",
            "Requirement already satisfied: tqdm in /usr/local/lib/python3.10/dist-packages (from openai-whisper->whisper-timestamped==1.15.8) (4.66.6)\n",
            "Requirement already satisfied: more-itertools in /usr/local/lib/python3.10/dist-packages (from openai-whisper->whisper-timestamped==1.15.8) (10.5.0)\n",
            "Collecting tiktoken (from openai-whisper->whisper-timestamped==1.15.8)\n",
            "  Downloading tiktoken-0.8.0-cp310-cp310-manylinux_2_17_x86_64.manylinux2014_x86_64.whl.metadata (6.6 kB)\n",
            "Collecting triton>=2.0.0 (from openai-whisper->whisper-timestamped==1.15.8)\n",
            "  Downloading triton-3.1.0-cp310-cp310-manylinux_2_17_x86_64.manylinux2014_x86_64.whl.metadata (1.3 kB)\n",
            "Requirement already satisfied: filelock in /usr/local/lib/python3.10/dist-packages (from triton>=2.0.0->openai-whisper->whisper-timestamped==1.15.8) (3.16.1)\n",
            "Requirement already satisfied: llvmlite<0.44,>=0.43.0dev0 in /usr/local/lib/python3.10/dist-packages (from numba->openai-whisper->whisper-timestamped==1.15.8) (0.43.0)\n",
            "Requirement already satisfied: regex>=2022.1.18 in /usr/local/lib/python3.10/dist-packages (from tiktoken->openai-whisper->whisper-timestamped==1.15.8) (2024.9.11)\n",
            "Requirement already satisfied: requests>=2.26.0 in /usr/local/lib/python3.10/dist-packages (from tiktoken->openai-whisper->whisper-timestamped==1.15.8) (2.32.3)\n",
            "Requirement already satisfied: typing-extensions>=4.8.0 in /usr/local/lib/python3.10/dist-packages (from torch->openai-whisper->whisper-timestamped==1.15.8) (4.12.2)\n",
            "Requirement already satisfied: networkx in /usr/local/lib/python3.10/dist-packages (from torch->openai-whisper->whisper-timestamped==1.15.8) (3.4.2)\n",
            "Requirement already satisfied: jinja2 in /usr/local/lib/python3.10/dist-packages (from torch->openai-whisper->whisper-timestamped==1.15.8) (3.1.4)\n",
            "Requirement already satisfied: fsspec in /usr/local/lib/python3.10/dist-packages (from torch->openai-whisper->whisper-timestamped==1.15.8) (2024.10.0)\n",
            "Requirement already satisfied: sympy==1.13.1 in /usr/local/lib/python3.10/dist-packages (from torch->openai-whisper->whisper-timestamped==1.15.8) (1.13.1)\n",
            "Requirement already satisfied: mpmath<1.4,>=1.1.0 in /usr/local/lib/python3.10/dist-packages (from sympy==1.13.1->torch->openai-whisper->whisper-timestamped==1.15.8) (1.3.0)\n",
            "Requirement already satisfied: charset-normalizer<4,>=2 in /usr/local/lib/python3.10/dist-packages (from requests>=2.26.0->tiktoken->openai-whisper->whisper-timestamped==1.15.8) (3.4.0)\n",
            "Requirement already satisfied: idna<4,>=2.5 in /usr/local/lib/python3.10/dist-packages (from requests>=2.26.0->tiktoken->openai-whisper->whisper-timestamped==1.15.8) (3.10)\n",
            "Requirement already satisfied: urllib3<3,>=1.21.1 in /usr/local/lib/python3.10/dist-packages (from requests>=2.26.0->tiktoken->openai-whisper->whisper-timestamped==1.15.8) (2.2.3)\n",
            "Requirement already satisfied: certifi>=2017.4.17 in /usr/local/lib/python3.10/dist-packages (from requests>=2.26.0->tiktoken->openai-whisper->whisper-timestamped==1.15.8) (2024.8.30)\n",
            "Requirement already satisfied: MarkupSafe>=2.0 in /usr/local/lib/python3.10/dist-packages (from jinja2->torch->openai-whisper->whisper-timestamped==1.15.8) (3.0.2)\n",
            "Downloading dtw_python-1.5.3-cp310-cp310-manylinux_2_17_x86_64.manylinux2014_x86_64.whl (764 kB)\n",
            "\u001b[2K   \u001b[90m━━━━━━━━━━━━━━━━━━━━━━━━━━━━━━━━━━━━━━━━\u001b[0m \u001b[32m764.7/764.7 kB\u001b[0m \u001b[31m40.4 MB/s\u001b[0m eta \u001b[36m0:00:00\u001b[0m\n",
            "\u001b[?25hDownloading triton-3.1.0-cp310-cp310-manylinux_2_17_x86_64.manylinux2014_x86_64.whl (209.5 MB)\n",
            "\u001b[2K   \u001b[90m━━━━━━━━━━━━━━━━━━━━━━━━━━━━━━━━━━━━━━━━\u001b[0m \u001b[32m209.5/209.5 MB\u001b[0m \u001b[31m7.2 MB/s\u001b[0m eta \u001b[36m0:00:00\u001b[0m\n",
            "\u001b[?25hDownloading tiktoken-0.8.0-cp310-cp310-manylinux_2_17_x86_64.manylinux2014_x86_64.whl (1.2 MB)\n",
            "\u001b[2K   \u001b[90m━━━━━━━━━━━━━━━━━━━━━━━━━━━━━━━━━━━━━━━━\u001b[0m \u001b[32m1.2/1.2 MB\u001b[0m \u001b[31m54.4 MB/s\u001b[0m eta \u001b[36m0:00:00\u001b[0m\n",
            "\u001b[?25hBuilding wheels for collected packages: whisper-timestamped, openai-whisper\n",
            "  Building wheel for whisper-timestamped (setup.py) ... \u001b[?25l\u001b[?25hdone\n",
            "  Created wheel for whisper-timestamped: filename=whisper_timestamped-1.15.8-py3-none-any.whl size=53759 sha256=8141e2971e548827d215f4600b9599488f6a3e9a3b7c7b6e9119c45395d6a09b\n",
            "  Stored in directory: /tmp/pip-ephem-wheel-cache-uwoenmh0/wheels/9d/fb/03/ae0b1c8b71edda71e33da77333c78117d879361bdd35de48e4\n",
            "  Building wheel for openai-whisper (pyproject.toml) ... \u001b[?25l\u001b[?25hdone\n",
            "  Created wheel for openai-whisper: filename=openai_whisper-20240930-py3-none-any.whl size=803320 sha256=00c2ee9f8ec9029b19d0a4506a8d75184de76cdab50591405af839aaddb640e2\n",
            "  Stored in directory: /root/.cache/pip/wheels/dd/4a/1f/d1c4bf3b9133c8168fe617ed979cab7b14fe381d059ffb9d83\n",
            "Successfully built whisper-timestamped openai-whisper\n",
            "Installing collected packages: triton, tiktoken, dtw-python, openai-whisper, whisper-timestamped\n",
            "Successfully installed dtw-python-1.5.3 openai-whisper-20240930 tiktoken-0.8.0 triton-3.1.0 whisper-timestamped-1.15.8\n"
          ]
        }
      ]
    },
    {
      "cell_type": "code",
      "source": [
        "import whisper_timestamped as whisper\n",
        "import json\n",
        "\n",
        "audio = whisper.load_audio(\"input_audio.mp3\")\n",
        "\n",
        "model = whisper.load_model(\"base\", device=\"cuda\")\n",
        "\n",
        "transcript_result = whisper.transcribe(model, audio, language=\"en\")"
      ],
      "metadata": {
        "colab": {
          "base_uri": "https://localhost:8080/"
        },
        "id": "yCJXDclyqr63",
        "outputId": "4c75d04f-5bdb-427e-efb1-32f872ebbd23"
      },
      "execution_count": 25,
      "outputs": [
        {
          "output_type": "stream",
          "name": "stderr",
          "text": [
            "/usr/local/lib/python3.10/dist-packages/whisper/__init__.py:150: FutureWarning: You are using `torch.load` with `weights_only=False` (the current default value), which uses the default pickle module implicitly. It is possible to construct malicious pickle data which will execute arbitrary code during unpickling (See https://github.com/pytorch/pytorch/blob/main/SECURITY.md#untrusted-models for more details). In a future release, the default value for `weights_only` will be flipped to `True`. This limits the functions that could be executed during unpickling. Arbitrary objects will no longer be allowed to be loaded via this mode unless they are explicitly allowlisted by the user via `torch.serialization.add_safe_globals`. We recommend you start setting `weights_only=True` for any use case where you don't have full control of the loaded file. Please open an issue on GitHub for any issues related to this experimental feature.\n",
            "  checkpoint = torch.load(fp, map_location=device)\n",
            "100%|██████████| 1965/1965 [00:01<00:00, 1195.56frames/s]\n"
          ]
        }
      ]
    },
    {
      "cell_type": "code",
      "source": [
        "# full model outputs\n",
        "print(json.dumps(transcript_result, indent = 2, ensure_ascii = False))"
      ],
      "metadata": {
        "colab": {
          "base_uri": "https://localhost:8080/"
        },
        "id": "NMG6Zi5GqvxX",
        "outputId": "55da776e-2841-469a-bfa9-7f760fa112ca"
      },
      "execution_count": 26,
      "outputs": [
        {
          "output_type": "stream",
          "name": "stdout",
          "text": [
            "{\n",
            "  \"text\": \" Hello, this is John Smith calling. My client number is 55,632, and I placed in order with your company, Fastrac Supplies. The order reference is FT7890. I called yesterday, and Stephane told me that it was scheduled for delivery today. But I still haven't received it. Could you help me with this, please?\",\n",
            "  \"segments\": [\n",
            "    {\n",
            "      \"id\": 0,\n",
            "      \"seek\": 0,\n",
            "      \"start\": 0.1,\n",
            "      \"end\": 8.86,\n",
            "      \"text\": \" Hello, this is John Smith calling. My client number is 55,632, and I placed in order with your company, Fastrac Supplies.\",\n",
            "      \"tokens\": [\n",
            "        50364,\n",
            "        2425,\n",
            "        11,\n",
            "        341,\n",
            "        307,\n",
            "        2619,\n",
            "        8538,\n",
            "        5141,\n",
            "        13,\n",
            "        1222,\n",
            "        6423,\n",
            "        1230,\n",
            "        307,\n",
            "        12330,\n",
            "        11,\n",
            "        21,\n",
            "        11440,\n",
            "        11,\n",
            "        293,\n",
            "        286,\n",
            "        7074,\n",
            "        294,\n",
            "        1668,\n",
            "        365,\n",
            "        428,\n",
            "        2237,\n",
            "        11,\n",
            "        15968,\n",
            "        12080,\n",
            "        9391,\n",
            "        24119,\n",
            "        13,\n",
            "        50820\n",
            "      ],\n",
            "      \"temperature\": 0.0,\n",
            "      \"avg_logprob\": -0.24093397164050442,\n",
            "      \"compression_ratio\": 1.3738738738738738,\n",
            "      \"no_speech_prob\": 0.06531763076782227,\n",
            "      \"confidence\": 0.775,\n",
            "      \"words\": [\n",
            "        {\n",
            "          \"text\": \"Hello,\",\n",
            "          \"start\": 0.1,\n",
            "          \"end\": 0.32,\n",
            "          \"confidence\": 0.955\n",
            "        },\n",
            "        {\n",
            "          \"text\": \"this\",\n",
            "          \"start\": 0.62,\n",
            "          \"end\": 0.86,\n",
            "          \"confidence\": 0.974\n",
            "        },\n",
            "        {\n",
            "          \"text\": \"is\",\n",
            "          \"start\": 0.86,\n",
            "          \"end\": 1.0,\n",
            "          \"confidence\": 0.999\n",
            "        },\n",
            "        {\n",
            "          \"text\": \"John\",\n",
            "          \"start\": 1.0,\n",
            "          \"end\": 1.3,\n",
            "          \"confidence\": 0.779\n",
            "        },\n",
            "        {\n",
            "          \"text\": \"Smith\",\n",
            "          \"start\": 1.3,\n",
            "          \"end\": 1.64,\n",
            "          \"confidence\": 0.982\n",
            "        },\n",
            "        {\n",
            "          \"text\": \"calling.\",\n",
            "          \"start\": 1.64,\n",
            "          \"end\": 2.06,\n",
            "          \"confidence\": 0.606\n",
            "        },\n",
            "        {\n",
            "          \"text\": \"My\",\n",
            "          \"start\": 2.26,\n",
            "          \"end\": 2.36,\n",
            "          \"confidence\": 0.712\n",
            "        },\n",
            "        {\n",
            "          \"text\": \"client\",\n",
            "          \"start\": 2.36,\n",
            "          \"end\": 2.72,\n",
            "          \"confidence\": 0.989\n",
            "        },\n",
            "        {\n",
            "          \"text\": \"number\",\n",
            "          \"start\": 2.72,\n",
            "          \"end\": 3.04,\n",
            "          \"confidence\": 0.976\n",
            "        },\n",
            "        {\n",
            "          \"text\": \"is\",\n",
            "          \"start\": 3.04,\n",
            "          \"end\": 3.22,\n",
            "          \"confidence\": 0.995\n",
            "        },\n",
            "        {\n",
            "          \"text\": \"55,632,\",\n",
            "          \"start\": 3.22,\n",
            "          \"end\": 5.5,\n",
            "          \"confidence\": 0.895\n",
            "        },\n",
            "        {\n",
            "          \"text\": \"and\",\n",
            "          \"start\": 5.9,\n",
            "          \"end\": 6.04,\n",
            "          \"confidence\": 0.82\n",
            "        },\n",
            "        {\n",
            "          \"text\": \"I\",\n",
            "          \"start\": 6.04,\n",
            "          \"end\": 6.16,\n",
            "          \"confidence\": 0.983\n",
            "        },\n",
            "        {\n",
            "          \"text\": \"placed\",\n",
            "          \"start\": 6.16,\n",
            "          \"end\": 6.4,\n",
            "          \"confidence\": 0.91\n",
            "        },\n",
            "        {\n",
            "          \"text\": \"in\",\n",
            "          \"start\": 6.4,\n",
            "          \"end\": 6.62,\n",
            "          \"confidence\": 0.642\n",
            "        },\n",
            "        {\n",
            "          \"text\": \"order\",\n",
            "          \"start\": 6.62,\n",
            "          \"end\": 6.8,\n",
            "          \"confidence\": 0.945\n",
            "        },\n",
            "        {\n",
            "          \"text\": \"with\",\n",
            "          \"start\": 6.8,\n",
            "          \"end\": 7.0,\n",
            "          \"confidence\": 0.953\n",
            "        },\n",
            "        {\n",
            "          \"text\": \"your\",\n",
            "          \"start\": 7.0,\n",
            "          \"end\": 7.14,\n",
            "          \"confidence\": 0.815\n",
            "        },\n",
            "        {\n",
            "          \"text\": \"company,\",\n",
            "          \"start\": 7.14,\n",
            "          \"end\": 7.52,\n",
            "          \"confidence\": 0.693\n",
            "        },\n",
            "        {\n",
            "          \"text\": \"Fastrac\",\n",
            "          \"start\": 7.84,\n",
            "          \"end\": 8.28,\n",
            "          \"confidence\": 0.267\n",
            "        },\n",
            "        {\n",
            "          \"text\": \"Supplies.\",\n",
            "          \"start\": 8.28,\n",
            "          \"end\": 8.86,\n",
            "          \"confidence\": 0.639\n",
            "        }\n",
            "      ]\n",
            "    },\n",
            "    {\n",
            "      \"id\": 1,\n",
            "      \"seek\": 0,\n",
            "      \"start\": 9.22,\n",
            "      \"end\": 15.98,\n",
            "      \"text\": \" The order reference is FT7890. I called yesterday, and Stephane told me that it was scheduled for delivery today.\",\n",
            "      \"tokens\": [\n",
            "        50820,\n",
            "        440,\n",
            "        1668,\n",
            "        6408,\n",
            "        307,\n",
            "        46675,\n",
            "        22,\n",
            "        21115,\n",
            "        15,\n",
            "        13,\n",
            "        286,\n",
            "        1219,\n",
            "        5186,\n",
            "        11,\n",
            "        293,\n",
            "        31418,\n",
            "        1929,\n",
            "        1907,\n",
            "        385,\n",
            "        300,\n",
            "        309,\n",
            "        390,\n",
            "        15678,\n",
            "        337,\n",
            "        8982,\n",
            "        965,\n",
            "        13,\n",
            "        51180\n",
            "      ],\n",
            "      \"temperature\": 0.0,\n",
            "      \"avg_logprob\": -0.24093397164050442,\n",
            "      \"compression_ratio\": 1.3738738738738738,\n",
            "      \"no_speech_prob\": 0.06531763076782227,\n",
            "      \"confidence\": 0.822,\n",
            "      \"words\": [\n",
            "        {\n",
            "          \"text\": \"The\",\n",
            "          \"start\": 9.22,\n",
            "          \"end\": 9.36,\n",
            "          \"confidence\": 0.943\n",
            "        },\n",
            "        {\n",
            "          \"text\": \"order\",\n",
            "          \"start\": 9.36,\n",
            "          \"end\": 9.6,\n",
            "          \"confidence\": 0.971\n",
            "        },\n",
            "        {\n",
            "          \"text\": \"reference\",\n",
            "          \"start\": 9.6,\n",
            "          \"end\": 9.96,\n",
            "          \"confidence\": 0.945\n",
            "        },\n",
            "        {\n",
            "          \"text\": \"is\",\n",
            "          \"start\": 9.96,\n",
            "          \"end\": 10.24,\n",
            "          \"confidence\": 0.998\n",
            "        },\n",
            "        {\n",
            "          \"text\": \"FT7890.\",\n",
            "          \"start\": 10.24,\n",
            "          \"end\": 11.86,\n",
            "          \"confidence\": 0.49\n",
            "        },\n",
            "        {\n",
            "          \"text\": \"I\",\n",
            "          \"start\": 12.08,\n",
            "          \"end\": 12.12,\n",
            "          \"confidence\": 0.869\n",
            "        },\n",
            "        {\n",
            "          \"text\": \"called\",\n",
            "          \"start\": 12.12,\n",
            "          \"end\": 12.36,\n",
            "          \"confidence\": 0.998\n",
            "        },\n",
            "        {\n",
            "          \"text\": \"yesterday,\",\n",
            "          \"start\": 12.36,\n",
            "          \"end\": 12.9,\n",
            "          \"confidence\": 0.993\n",
            "        },\n",
            "        {\n",
            "          \"text\": \"and\",\n",
            "          \"start\": 13.3,\n",
            "          \"end\": 13.42,\n",
            "          \"confidence\": 0.973\n",
            "        },\n",
            "        {\n",
            "          \"text\": \"Stephane\",\n",
            "          \"start\": 13.42,\n",
            "          \"end\": 13.92,\n",
            "          \"confidence\": 0.561\n",
            "        },\n",
            "        {\n",
            "          \"text\": \"told\",\n",
            "          \"start\": 13.92,\n",
            "          \"end\": 14.12,\n",
            "          \"confidence\": 0.997\n",
            "        },\n",
            "        {\n",
            "          \"text\": \"me\",\n",
            "          \"start\": 14.12,\n",
            "          \"end\": 14.3,\n",
            "          \"confidence\": 0.992\n",
            "        },\n",
            "        {\n",
            "          \"text\": \"that\",\n",
            "          \"start\": 14.3,\n",
            "          \"end\": 14.46,\n",
            "          \"confidence\": 0.987\n",
            "        },\n",
            "        {\n",
            "          \"text\": \"it\",\n",
            "          \"start\": 14.46,\n",
            "          \"end\": 14.56,\n",
            "          \"confidence\": 0.972\n",
            "        },\n",
            "        {\n",
            "          \"text\": \"was\",\n",
            "          \"start\": 14.56,\n",
            "          \"end\": 14.66,\n",
            "          \"confidence\": 0.992\n",
            "        },\n",
            "        {\n",
            "          \"text\": \"scheduled\",\n",
            "          \"start\": 14.66,\n",
            "          \"end\": 15.0,\n",
            "          \"confidence\": 0.979\n",
            "        },\n",
            "        {\n",
            "          \"text\": \"for\",\n",
            "          \"start\": 15.0,\n",
            "          \"end\": 15.26,\n",
            "          \"confidence\": 0.974\n",
            "        },\n",
            "        {\n",
            "          \"text\": \"delivery\",\n",
            "          \"start\": 15.26,\n",
            "          \"end\": 15.6,\n",
            "          \"confidence\": 0.974\n",
            "        },\n",
            "        {\n",
            "          \"text\": \"today.\",\n",
            "          \"start\": 15.6,\n",
            "          \"end\": 15.98,\n",
            "          \"confidence\": 0.951\n",
            "        }\n",
            "      ]\n",
            "    },\n",
            "    {\n",
            "      \"id\": 2,\n",
            "      \"seek\": 0,\n",
            "      \"start\": 16.4,\n",
            "      \"end\": 19.36,\n",
            "      \"text\": \" But I still haven't received it. Could you help me with this, please?\",\n",
            "      \"tokens\": [\n",
            "        51180,\n",
            "        583,\n",
            "        286,\n",
            "        920,\n",
            "        2378,\n",
            "        380,\n",
            "        4613,\n",
            "        309,\n",
            "        13,\n",
            "        7497,\n",
            "        291,\n",
            "        854,\n",
            "        385,\n",
            "        365,\n",
            "        341,\n",
            "        11,\n",
            "        1767,\n",
            "        30,\n",
            "        51344\n",
            "      ],\n",
            "      \"temperature\": 0.0,\n",
            "      \"avg_logprob\": -0.24093397164050442,\n",
            "      \"compression_ratio\": 1.3738738738738738,\n",
            "      \"no_speech_prob\": 0.06531763076782227,\n",
            "      \"confidence\": 0.984,\n",
            "      \"words\": [\n",
            "        {\n",
            "          \"text\": \"But\",\n",
            "          \"start\": 16.4,\n",
            "          \"end\": 16.54,\n",
            "          \"confidence\": 0.883\n",
            "        },\n",
            "        {\n",
            "          \"text\": \"I\",\n",
            "          \"start\": 16.54,\n",
            "          \"end\": 16.64,\n",
            "          \"confidence\": 0.985\n",
            "        },\n",
            "        {\n",
            "          \"text\": \"still\",\n",
            "          \"start\": 16.64,\n",
            "          \"end\": 16.84,\n",
            "          \"confidence\": 0.999\n",
            "        },\n",
            "        {\n",
            "          \"text\": \"haven't\",\n",
            "          \"start\": 16.84,\n",
            "          \"end\": 17.2,\n",
            "          \"confidence\": 0.996\n",
            "        },\n",
            "        {\n",
            "          \"text\": \"received\",\n",
            "          \"start\": 17.2,\n",
            "          \"end\": 17.54,\n",
            "          \"confidence\": 0.992\n",
            "        },\n",
            "        {\n",
            "          \"text\": \"it.\",\n",
            "          \"start\": 17.54,\n",
            "          \"end\": 17.8,\n",
            "          \"confidence\": 0.999\n",
            "        },\n",
            "        {\n",
            "          \"text\": \"Could\",\n",
            "          \"start\": 17.94,\n",
            "          \"end\": 18.08,\n",
            "          \"confidence\": 0.949\n",
            "        },\n",
            "        {\n",
            "          \"text\": \"you\",\n",
            "          \"start\": 18.08,\n",
            "          \"end\": 18.22,\n",
            "          \"confidence\": 0.999\n",
            "        },\n",
            "        {\n",
            "          \"text\": \"help\",\n",
            "          \"start\": 18.22,\n",
            "          \"end\": 18.4,\n",
            "          \"confidence\": 0.999\n",
            "        },\n",
            "        {\n",
            "          \"text\": \"me\",\n",
            "          \"start\": 18.4,\n",
            "          \"end\": 18.58,\n",
            "          \"confidence\": 0.994\n",
            "        },\n",
            "        {\n",
            "          \"text\": \"with\",\n",
            "          \"start\": 18.58,\n",
            "          \"end\": 18.72,\n",
            "          \"confidence\": 0.999\n",
            "        },\n",
            "        {\n",
            "          \"text\": \"this,\",\n",
            "          \"start\": 18.72,\n",
            "          \"end\": 18.94,\n",
            "          \"confidence\": 0.999\n",
            "        },\n",
            "        {\n",
            "          \"text\": \"please?\",\n",
            "          \"start\": 19.18,\n",
            "          \"end\": 19.36,\n",
            "          \"confidence\": 0.994\n",
            "        }\n",
            "      ]\n",
            "    }\n",
            "  ],\n",
            "  \"language\": \"en\"\n",
            "}\n"
          ]
        }
      ]
    },
    {
      "cell_type": "code",
      "source": [
        "# Text transcript\n",
        "transcript_result['text']"
      ],
      "metadata": {
        "colab": {
          "base_uri": "https://localhost:8080/",
          "height": 53
        },
        "id": "Y-Q_79TPrA5V",
        "outputId": "e5f7e24a-8db6-4a19-cf3f-7becdb7777da"
      },
      "execution_count": 27,
      "outputs": [
        {
          "output_type": "execute_result",
          "data": {
            "text/plain": [
              "\" Hello, this is John Smith calling. My client number is 55,632, and I placed in order with your company, Fastrac Supplies. The order reference is FT7890. I called yesterday, and Stephane told me that it was scheduled for delivery today. But I still haven't received it. Could you help me with this, please?\""
            ],
            "application/vnd.google.colaboratory.intrinsic+json": {
              "type": "string"
            }
          },
          "metadata": {},
          "execution_count": 27
        }
      ]
    },
    {
      "cell_type": "code",
      "source": [
        "words_details = [word for segment in transcript_result['segments'] for word in segment['words']]\n",
        "\n",
        "words_details"
      ],
      "metadata": {
        "colab": {
          "base_uri": "https://localhost:8080/"
        },
        "id": "YWyY4kWyrINL",
        "outputId": "d9251729-262f-484a-f5c6-de9de80f4d0c"
      },
      "execution_count": 78,
      "outputs": [
        {
          "output_type": "execute_result",
          "data": {
            "text/plain": [
              "[{'text': 'Hello,', 'start': 0.1, 'end': 0.32, 'confidence': 0.955},\n",
              " {'text': 'this', 'start': 0.62, 'end': 0.86, 'confidence': 0.974},\n",
              " {'text': 'is', 'start': 0.86, 'end': 1.0, 'confidence': 0.999},\n",
              " {'text': 'John', 'start': 1.0, 'end': 1.3, 'confidence': 0.779},\n",
              " {'text': 'Smith', 'start': 1.3, 'end': 1.64, 'confidence': 0.982},\n",
              " {'text': 'calling.', 'start': 1.64, 'end': 2.06, 'confidence': 0.606},\n",
              " {'text': 'My', 'start': 2.26, 'end': 2.36, 'confidence': 0.712},\n",
              " {'text': 'client', 'start': 2.36, 'end': 2.72, 'confidence': 0.989},\n",
              " {'text': 'number', 'start': 2.72, 'end': 3.04, 'confidence': 0.976},\n",
              " {'text': 'is', 'start': 3.04, 'end': 3.22, 'confidence': 0.995},\n",
              " {'text': '55,632,', 'start': 3.22, 'end': 5.5, 'confidence': 0.895},\n",
              " {'text': 'and', 'start': 5.9, 'end': 6.04, 'confidence': 0.82},\n",
              " {'text': 'I', 'start': 6.04, 'end': 6.16, 'confidence': 0.983},\n",
              " {'text': 'placed', 'start': 6.16, 'end': 6.4, 'confidence': 0.91},\n",
              " {'text': 'in', 'start': 6.4, 'end': 6.62, 'confidence': 0.642},\n",
              " {'text': 'order', 'start': 6.62, 'end': 6.8, 'confidence': 0.945},\n",
              " {'text': 'with', 'start': 6.8, 'end': 7.0, 'confidence': 0.953},\n",
              " {'text': 'your', 'start': 7.0, 'end': 7.14, 'confidence': 0.815},\n",
              " {'text': 'company,', 'start': 7.14, 'end': 7.52, 'confidence': 0.693},\n",
              " {'text': 'Fastrac', 'start': 7.84, 'end': 8.28, 'confidence': 0.267},\n",
              " {'text': 'Supplies.', 'start': 8.28, 'end': 8.86, 'confidence': 0.639},\n",
              " {'text': 'The', 'start': 9.22, 'end': 9.36, 'confidence': 0.943},\n",
              " {'text': 'order', 'start': 9.36, 'end': 9.6, 'confidence': 0.971},\n",
              " {'text': 'reference', 'start': 9.6, 'end': 9.96, 'confidence': 0.945},\n",
              " {'text': 'is', 'start': 9.96, 'end': 10.24, 'confidence': 0.998},\n",
              " {'text': 'FT7890.', 'start': 10.24, 'end': 11.86, 'confidence': 0.49},\n",
              " {'text': 'I', 'start': 12.08, 'end': 12.12, 'confidence': 0.869},\n",
              " {'text': 'called', 'start': 12.12, 'end': 12.36, 'confidence': 0.998},\n",
              " {'text': 'yesterday,', 'start': 12.36, 'end': 12.9, 'confidence': 0.993},\n",
              " {'text': 'and', 'start': 13.3, 'end': 13.42, 'confidence': 0.973},\n",
              " {'text': 'Stephane', 'start': 13.42, 'end': 13.92, 'confidence': 0.561},\n",
              " {'text': 'told', 'start': 13.92, 'end': 14.12, 'confidence': 0.997},\n",
              " {'text': 'me', 'start': 14.12, 'end': 14.3, 'confidence': 0.992},\n",
              " {'text': 'that', 'start': 14.3, 'end': 14.46, 'confidence': 0.987},\n",
              " {'text': 'it', 'start': 14.46, 'end': 14.56, 'confidence': 0.972},\n",
              " {'text': 'was', 'start': 14.56, 'end': 14.66, 'confidence': 0.992},\n",
              " {'text': 'scheduled', 'start': 14.66, 'end': 15.0, 'confidence': 0.979},\n",
              " {'text': 'for', 'start': 15.0, 'end': 15.26, 'confidence': 0.974},\n",
              " {'text': 'delivery', 'start': 15.26, 'end': 15.6, 'confidence': 0.974},\n",
              " {'text': 'today.', 'start': 15.6, 'end': 15.98, 'confidence': 0.951},\n",
              " {'text': 'But', 'start': 16.4, 'end': 16.54, 'confidence': 0.883},\n",
              " {'text': 'I', 'start': 16.54, 'end': 16.64, 'confidence': 0.985},\n",
              " {'text': 'still', 'start': 16.64, 'end': 16.84, 'confidence': 0.999},\n",
              " {'text': \"haven't\", 'start': 16.84, 'end': 17.2, 'confidence': 0.996},\n",
              " {'text': 'received', 'start': 17.2, 'end': 17.54, 'confidence': 0.992},\n",
              " {'text': 'it.', 'start': 17.54, 'end': 17.8, 'confidence': 0.999},\n",
              " {'text': 'Could', 'start': 17.94, 'end': 18.08, 'confidence': 0.949},\n",
              " {'text': 'you', 'start': 18.08, 'end': 18.22, 'confidence': 0.999},\n",
              " {'text': 'help', 'start': 18.22, 'end': 18.4, 'confidence': 0.999},\n",
              " {'text': 'me', 'start': 18.4, 'end': 18.58, 'confidence': 0.994},\n",
              " {'text': 'with', 'start': 18.58, 'end': 18.72, 'confidence': 0.999},\n",
              " {'text': 'this,', 'start': 18.72, 'end': 18.94, 'confidence': 0.999},\n",
              " {'text': 'please?', 'start': 19.18, 'end': 19.36, 'confidence': 0.994}]"
            ]
          },
          "metadata": {},
          "execution_count": 78
        }
      ]
    },
    {
      "cell_type": "markdown",
      "source": [
        "## Detecting PII words"
      ],
      "metadata": {
        "id": "AfQylwVpHMIQ"
      }
    },
    {
      "cell_type": "code",
      "source": [
        "!pip install presidio-analyzer\n",
        "!pip install presidio-anonymizer\n",
        "!python -m spacy download en_core_web_lg"
      ],
      "metadata": {
        "colab": {
          "base_uri": "https://localhost:8080/"
        },
        "collapsed": true,
        "id": "hP51SYA-ttLH",
        "outputId": "0e0fd758-eda0-4e78-bfc3-0551f4bafde4"
      },
      "execution_count": 16,
      "outputs": [
        {
          "output_type": "stream",
          "name": "stdout",
          "text": [
            "Collecting presidio-analyzer\n",
            "  Downloading presidio_analyzer-2.2.355-py3-none-any.whl.metadata (2.9 kB)\n",
            "Collecting phonenumbers<9.0.0,>=8.12 (from presidio-analyzer)\n",
            "  Downloading phonenumbers-8.13.52-py2.py3-none-any.whl.metadata (10 kB)\n",
            "Requirement already satisfied: pyyaml in /usr/local/lib/python3.10/dist-packages (from presidio-analyzer) (6.0.2)\n",
            "Requirement already satisfied: regex in /usr/local/lib/python3.10/dist-packages (from presidio-analyzer) (2024.9.11)\n",
            "Requirement already satisfied: spacy<4.0.0,>=3.4.4 in /usr/local/lib/python3.10/dist-packages (from presidio-analyzer) (3.7.5)\n",
            "Collecting tldextract (from presidio-analyzer)\n",
            "  Downloading tldextract-5.1.3-py3-none-any.whl.metadata (11 kB)\n",
            "Requirement already satisfied: spacy-legacy<3.1.0,>=3.0.11 in /usr/local/lib/python3.10/dist-packages (from spacy<4.0.0,>=3.4.4->presidio-analyzer) (3.0.12)\n",
            "Requirement already satisfied: spacy-loggers<2.0.0,>=1.0.0 in /usr/local/lib/python3.10/dist-packages (from spacy<4.0.0,>=3.4.4->presidio-analyzer) (1.0.5)\n",
            "Requirement already satisfied: murmurhash<1.1.0,>=0.28.0 in /usr/local/lib/python3.10/dist-packages (from spacy<4.0.0,>=3.4.4->presidio-analyzer) (1.0.11)\n",
            "Requirement already satisfied: cymem<2.1.0,>=2.0.2 in /usr/local/lib/python3.10/dist-packages (from spacy<4.0.0,>=3.4.4->presidio-analyzer) (2.0.10)\n",
            "Requirement already satisfied: preshed<3.1.0,>=3.0.2 in /usr/local/lib/python3.10/dist-packages (from spacy<4.0.0,>=3.4.4->presidio-analyzer) (3.0.9)\n",
            "Requirement already satisfied: thinc<8.3.0,>=8.2.2 in /usr/local/lib/python3.10/dist-packages (from spacy<4.0.0,>=3.4.4->presidio-analyzer) (8.2.5)\n",
            "Requirement already satisfied: wasabi<1.2.0,>=0.9.1 in /usr/local/lib/python3.10/dist-packages (from spacy<4.0.0,>=3.4.4->presidio-analyzer) (1.1.3)\n",
            "Requirement already satisfied: srsly<3.0.0,>=2.4.3 in /usr/local/lib/python3.10/dist-packages (from spacy<4.0.0,>=3.4.4->presidio-analyzer) (2.5.0)\n",
            "Requirement already satisfied: catalogue<2.1.0,>=2.0.6 in /usr/local/lib/python3.10/dist-packages (from spacy<4.0.0,>=3.4.4->presidio-analyzer) (2.0.10)\n",
            "Requirement already satisfied: weasel<0.5.0,>=0.1.0 in /usr/local/lib/python3.10/dist-packages (from spacy<4.0.0,>=3.4.4->presidio-analyzer) (0.4.1)\n",
            "Requirement already satisfied: typer<1.0.0,>=0.3.0 in /usr/local/lib/python3.10/dist-packages (from spacy<4.0.0,>=3.4.4->presidio-analyzer) (0.15.1)\n",
            "Requirement already satisfied: tqdm<5.0.0,>=4.38.0 in /usr/local/lib/python3.10/dist-packages (from spacy<4.0.0,>=3.4.4->presidio-analyzer) (4.66.6)\n",
            "Requirement already satisfied: requests<3.0.0,>=2.13.0 in /usr/local/lib/python3.10/dist-packages (from spacy<4.0.0,>=3.4.4->presidio-analyzer) (2.32.3)\n",
            "Requirement already satisfied: pydantic!=1.8,!=1.8.1,<3.0.0,>=1.7.4 in /usr/local/lib/python3.10/dist-packages (from spacy<4.0.0,>=3.4.4->presidio-analyzer) (2.10.3)\n",
            "Requirement already satisfied: jinja2 in /usr/local/lib/python3.10/dist-packages (from spacy<4.0.0,>=3.4.4->presidio-analyzer) (3.1.4)\n",
            "Requirement already satisfied: setuptools in /usr/local/lib/python3.10/dist-packages (from spacy<4.0.0,>=3.4.4->presidio-analyzer) (75.1.0)\n",
            "Requirement already satisfied: packaging>=20.0 in /usr/local/lib/python3.10/dist-packages (from spacy<4.0.0,>=3.4.4->presidio-analyzer) (24.2)\n",
            "Requirement already satisfied: langcodes<4.0.0,>=3.2.0 in /usr/local/lib/python3.10/dist-packages (from spacy<4.0.0,>=3.4.4->presidio-analyzer) (3.5.0)\n",
            "Requirement already satisfied: numpy>=1.19.0 in /usr/local/lib/python3.10/dist-packages (from spacy<4.0.0,>=3.4.4->presidio-analyzer) (1.26.4)\n",
            "Requirement already satisfied: idna in /usr/local/lib/python3.10/dist-packages (from tldextract->presidio-analyzer) (3.10)\n",
            "Collecting requests-file>=1.4 (from tldextract->presidio-analyzer)\n",
            "  Downloading requests_file-2.1.0-py2.py3-none-any.whl.metadata (1.7 kB)\n",
            "Requirement already satisfied: filelock>=3.0.8 in /usr/local/lib/python3.10/dist-packages (from tldextract->presidio-analyzer) (3.16.1)\n",
            "Requirement already satisfied: language-data>=1.2 in /usr/local/lib/python3.10/dist-packages (from langcodes<4.0.0,>=3.2.0->spacy<4.0.0,>=3.4.4->presidio-analyzer) (1.3.0)\n",
            "Requirement already satisfied: annotated-types>=0.6.0 in /usr/local/lib/python3.10/dist-packages (from pydantic!=1.8,!=1.8.1,<3.0.0,>=1.7.4->spacy<4.0.0,>=3.4.4->presidio-analyzer) (0.7.0)\n",
            "Requirement already satisfied: pydantic-core==2.27.1 in /usr/local/lib/python3.10/dist-packages (from pydantic!=1.8,!=1.8.1,<3.0.0,>=1.7.4->spacy<4.0.0,>=3.4.4->presidio-analyzer) (2.27.1)\n",
            "Requirement already satisfied: typing-extensions>=4.12.2 in /usr/local/lib/python3.10/dist-packages (from pydantic!=1.8,!=1.8.1,<3.0.0,>=1.7.4->spacy<4.0.0,>=3.4.4->presidio-analyzer) (4.12.2)\n",
            "Requirement already satisfied: charset-normalizer<4,>=2 in /usr/local/lib/python3.10/dist-packages (from requests<3.0.0,>=2.13.0->spacy<4.0.0,>=3.4.4->presidio-analyzer) (3.4.0)\n",
            "Requirement already satisfied: urllib3<3,>=1.21.1 in /usr/local/lib/python3.10/dist-packages (from requests<3.0.0,>=2.13.0->spacy<4.0.0,>=3.4.4->presidio-analyzer) (2.2.3)\n",
            "Requirement already satisfied: certifi>=2017.4.17 in /usr/local/lib/python3.10/dist-packages (from requests<3.0.0,>=2.13.0->spacy<4.0.0,>=3.4.4->presidio-analyzer) (2024.8.30)\n",
            "Requirement already satisfied: blis<0.8.0,>=0.7.8 in /usr/local/lib/python3.10/dist-packages (from thinc<8.3.0,>=8.2.2->spacy<4.0.0,>=3.4.4->presidio-analyzer) (0.7.11)\n",
            "Requirement already satisfied: confection<1.0.0,>=0.0.1 in /usr/local/lib/python3.10/dist-packages (from thinc<8.3.0,>=8.2.2->spacy<4.0.0,>=3.4.4->presidio-analyzer) (0.1.5)\n",
            "Requirement already satisfied: click>=8.0.0 in /usr/local/lib/python3.10/dist-packages (from typer<1.0.0,>=0.3.0->spacy<4.0.0,>=3.4.4->presidio-analyzer) (8.1.7)\n",
            "Requirement already satisfied: shellingham>=1.3.0 in /usr/local/lib/python3.10/dist-packages (from typer<1.0.0,>=0.3.0->spacy<4.0.0,>=3.4.4->presidio-analyzer) (1.5.4)\n",
            "Requirement already satisfied: rich>=10.11.0 in /usr/local/lib/python3.10/dist-packages (from typer<1.0.0,>=0.3.0->spacy<4.0.0,>=3.4.4->presidio-analyzer) (13.9.4)\n",
            "Requirement already satisfied: cloudpathlib<1.0.0,>=0.7.0 in /usr/local/lib/python3.10/dist-packages (from weasel<0.5.0,>=0.1.0->spacy<4.0.0,>=3.4.4->presidio-analyzer) (0.20.0)\n",
            "Requirement already satisfied: smart-open<8.0.0,>=5.2.1 in /usr/local/lib/python3.10/dist-packages (from weasel<0.5.0,>=0.1.0->spacy<4.0.0,>=3.4.4->presidio-analyzer) (7.0.5)\n",
            "Requirement already satisfied: MarkupSafe>=2.0 in /usr/local/lib/python3.10/dist-packages (from jinja2->spacy<4.0.0,>=3.4.4->presidio-analyzer) (3.0.2)\n",
            "Requirement already satisfied: marisa-trie>=1.1.0 in /usr/local/lib/python3.10/dist-packages (from language-data>=1.2->langcodes<4.0.0,>=3.2.0->spacy<4.0.0,>=3.4.4->presidio-analyzer) (1.2.1)\n",
            "Requirement already satisfied: markdown-it-py>=2.2.0 in /usr/local/lib/python3.10/dist-packages (from rich>=10.11.0->typer<1.0.0,>=0.3.0->spacy<4.0.0,>=3.4.4->presidio-analyzer) (3.0.0)\n",
            "Requirement already satisfied: pygments<3.0.0,>=2.13.0 in /usr/local/lib/python3.10/dist-packages (from rich>=10.11.0->typer<1.0.0,>=0.3.0->spacy<4.0.0,>=3.4.4->presidio-analyzer) (2.18.0)\n",
            "Requirement already satisfied: wrapt in /usr/local/lib/python3.10/dist-packages (from smart-open<8.0.0,>=5.2.1->weasel<0.5.0,>=0.1.0->spacy<4.0.0,>=3.4.4->presidio-analyzer) (1.17.0)\n",
            "Requirement already satisfied: mdurl~=0.1 in /usr/local/lib/python3.10/dist-packages (from markdown-it-py>=2.2.0->rich>=10.11.0->typer<1.0.0,>=0.3.0->spacy<4.0.0,>=3.4.4->presidio-analyzer) (0.1.2)\n",
            "Downloading presidio_analyzer-2.2.355-py3-none-any.whl (109 kB)\n",
            "\u001b[2K   \u001b[90m━━━━━━━━━━━━━━━━━━━━━━━━━━━━━━━━━━━━━━━━\u001b[0m \u001b[32m109.2/109.2 kB\u001b[0m \u001b[31m9.4 MB/s\u001b[0m eta \u001b[36m0:00:00\u001b[0m\n",
            "\u001b[?25hDownloading phonenumbers-8.13.52-py2.py3-none-any.whl (2.6 MB)\n",
            "\u001b[2K   \u001b[90m━━━━━━━━━━━━━━━━━━━━━━━━━━━━━━━━━━━━━━━━\u001b[0m \u001b[32m2.6/2.6 MB\u001b[0m \u001b[31m70.4 MB/s\u001b[0m eta \u001b[36m0:00:00\u001b[0m\n",
            "\u001b[?25hDownloading tldextract-5.1.3-py3-none-any.whl (104 kB)\n",
            "\u001b[2K   \u001b[90m━━━━━━━━━━━━━━━━━━━━━━━━━━━━━━━━━━━━━━━━\u001b[0m \u001b[32m104.9/104.9 kB\u001b[0m \u001b[31m9.5 MB/s\u001b[0m eta \u001b[36m0:00:00\u001b[0m\n",
            "\u001b[?25hDownloading requests_file-2.1.0-py2.py3-none-any.whl (4.2 kB)\n",
            "Installing collected packages: phonenumbers, requests-file, tldextract, presidio-analyzer\n",
            "Successfully installed phonenumbers-8.13.52 presidio-analyzer-2.2.355 requests-file-2.1.0 tldextract-5.1.3\n",
            "Collecting presidio-anonymizer\n",
            "  Downloading presidio_anonymizer-2.2.355-py3-none-any.whl.metadata (8.2 kB)\n",
            "Collecting azure-core (from presidio-anonymizer)\n",
            "  Downloading azure_core-1.32.0-py3-none-any.whl.metadata (39 kB)\n",
            "Collecting pycryptodome>=3.10.1 (from presidio-anonymizer)\n",
            "  Downloading pycryptodome-3.21.0-cp36-abi3-manylinux_2_17_x86_64.manylinux2014_x86_64.whl.metadata (3.4 kB)\n",
            "Requirement already satisfied: requests>=2.21.0 in /usr/local/lib/python3.10/dist-packages (from azure-core->presidio-anonymizer) (2.32.3)\n",
            "Requirement already satisfied: six>=1.11.0 in /usr/local/lib/python3.10/dist-packages (from azure-core->presidio-anonymizer) (1.17.0)\n",
            "Requirement already satisfied: typing-extensions>=4.6.0 in /usr/local/lib/python3.10/dist-packages (from azure-core->presidio-anonymizer) (4.12.2)\n",
            "Requirement already satisfied: charset-normalizer<4,>=2 in /usr/local/lib/python3.10/dist-packages (from requests>=2.21.0->azure-core->presidio-anonymizer) (3.4.0)\n",
            "Requirement already satisfied: idna<4,>=2.5 in /usr/local/lib/python3.10/dist-packages (from requests>=2.21.0->azure-core->presidio-anonymizer) (3.10)\n",
            "Requirement already satisfied: urllib3<3,>=1.21.1 in /usr/local/lib/python3.10/dist-packages (from requests>=2.21.0->azure-core->presidio-anonymizer) (2.2.3)\n",
            "Requirement already satisfied: certifi>=2017.4.17 in /usr/local/lib/python3.10/dist-packages (from requests>=2.21.0->azure-core->presidio-anonymizer) (2024.8.30)\n",
            "Downloading presidio_anonymizer-2.2.355-py3-none-any.whl (31 kB)\n",
            "Downloading pycryptodome-3.21.0-cp36-abi3-manylinux_2_17_x86_64.manylinux2014_x86_64.whl (2.3 MB)\n",
            "\u001b[2K   \u001b[90m━━━━━━━━━━━━━━━━━━━━━━━━━━━━━━━━━━━━━━━━\u001b[0m \u001b[32m2.3/2.3 MB\u001b[0m \u001b[31m58.3 MB/s\u001b[0m eta \u001b[36m0:00:00\u001b[0m\n",
            "\u001b[?25hDownloading azure_core-1.32.0-py3-none-any.whl (198 kB)\n",
            "\u001b[2K   \u001b[90m━━━━━━━━━━━━━━━━━━━━━━━━━━━━━━━━━━━━━━━━\u001b[0m \u001b[32m198.9/198.9 kB\u001b[0m \u001b[31m15.4 MB/s\u001b[0m eta \u001b[36m0:00:00\u001b[0m\n",
            "\u001b[?25hInstalling collected packages: pycryptodome, azure-core, presidio-anonymizer\n",
            "Successfully installed azure-core-1.32.0 presidio-anonymizer-2.2.355 pycryptodome-3.21.0\n",
            "Collecting en-core-web-lg==3.7.1\n",
            "  Downloading https://github.com/explosion/spacy-models/releases/download/en_core_web_lg-3.7.1/en_core_web_lg-3.7.1-py3-none-any.whl (587.7 MB)\n",
            "\u001b[2K     \u001b[90m━━━━━━━━━━━━━━━━━━━━━━━━━━━━━━━━━━━━━━━━\u001b[0m \u001b[32m587.7/587.7 MB\u001b[0m \u001b[31m2.9 MB/s\u001b[0m eta \u001b[36m0:00:00\u001b[0m\n",
            "\u001b[?25hRequirement already satisfied: spacy<3.8.0,>=3.7.2 in /usr/local/lib/python3.10/dist-packages (from en-core-web-lg==3.7.1) (3.7.5)\n",
            "Requirement already satisfied: spacy-legacy<3.1.0,>=3.0.11 in /usr/local/lib/python3.10/dist-packages (from spacy<3.8.0,>=3.7.2->en-core-web-lg==3.7.1) (3.0.12)\n",
            "Requirement already satisfied: spacy-loggers<2.0.0,>=1.0.0 in /usr/local/lib/python3.10/dist-packages (from spacy<3.8.0,>=3.7.2->en-core-web-lg==3.7.1) (1.0.5)\n",
            "Requirement already satisfied: murmurhash<1.1.0,>=0.28.0 in /usr/local/lib/python3.10/dist-packages (from spacy<3.8.0,>=3.7.2->en-core-web-lg==3.7.1) (1.0.11)\n",
            "Requirement already satisfied: cymem<2.1.0,>=2.0.2 in /usr/local/lib/python3.10/dist-packages (from spacy<3.8.0,>=3.7.2->en-core-web-lg==3.7.1) (2.0.10)\n",
            "Requirement already satisfied: preshed<3.1.0,>=3.0.2 in /usr/local/lib/python3.10/dist-packages (from spacy<3.8.0,>=3.7.2->en-core-web-lg==3.7.1) (3.0.9)\n",
            "Requirement already satisfied: thinc<8.3.0,>=8.2.2 in /usr/local/lib/python3.10/dist-packages (from spacy<3.8.0,>=3.7.2->en-core-web-lg==3.7.1) (8.2.5)\n",
            "Requirement already satisfied: wasabi<1.2.0,>=0.9.1 in /usr/local/lib/python3.10/dist-packages (from spacy<3.8.0,>=3.7.2->en-core-web-lg==3.7.1) (1.1.3)\n",
            "Requirement already satisfied: srsly<3.0.0,>=2.4.3 in /usr/local/lib/python3.10/dist-packages (from spacy<3.8.0,>=3.7.2->en-core-web-lg==3.7.1) (2.5.0)\n",
            "Requirement already satisfied: catalogue<2.1.0,>=2.0.6 in /usr/local/lib/python3.10/dist-packages (from spacy<3.8.0,>=3.7.2->en-core-web-lg==3.7.1) (2.0.10)\n",
            "Requirement already satisfied: weasel<0.5.0,>=0.1.0 in /usr/local/lib/python3.10/dist-packages (from spacy<3.8.0,>=3.7.2->en-core-web-lg==3.7.1) (0.4.1)\n",
            "Requirement already satisfied: typer<1.0.0,>=0.3.0 in /usr/local/lib/python3.10/dist-packages (from spacy<3.8.0,>=3.7.2->en-core-web-lg==3.7.1) (0.15.1)\n",
            "Requirement already satisfied: tqdm<5.0.0,>=4.38.0 in /usr/local/lib/python3.10/dist-packages (from spacy<3.8.0,>=3.7.2->en-core-web-lg==3.7.1) (4.66.6)\n",
            "Requirement already satisfied: requests<3.0.0,>=2.13.0 in /usr/local/lib/python3.10/dist-packages (from spacy<3.8.0,>=3.7.2->en-core-web-lg==3.7.1) (2.32.3)\n",
            "Requirement already satisfied: pydantic!=1.8,!=1.8.1,<3.0.0,>=1.7.4 in /usr/local/lib/python3.10/dist-packages (from spacy<3.8.0,>=3.7.2->en-core-web-lg==3.7.1) (2.10.3)\n",
            "Requirement already satisfied: jinja2 in /usr/local/lib/python3.10/dist-packages (from spacy<3.8.0,>=3.7.2->en-core-web-lg==3.7.1) (3.1.4)\n",
            "Requirement already satisfied: setuptools in /usr/local/lib/python3.10/dist-packages (from spacy<3.8.0,>=3.7.2->en-core-web-lg==3.7.1) (75.1.0)\n",
            "Requirement already satisfied: packaging>=20.0 in /usr/local/lib/python3.10/dist-packages (from spacy<3.8.0,>=3.7.2->en-core-web-lg==3.7.1) (24.2)\n",
            "Requirement already satisfied: langcodes<4.0.0,>=3.2.0 in /usr/local/lib/python3.10/dist-packages (from spacy<3.8.0,>=3.7.2->en-core-web-lg==3.7.1) (3.5.0)\n",
            "Requirement already satisfied: numpy>=1.19.0 in /usr/local/lib/python3.10/dist-packages (from spacy<3.8.0,>=3.7.2->en-core-web-lg==3.7.1) (1.26.4)\n",
            "Requirement already satisfied: language-data>=1.2 in /usr/local/lib/python3.10/dist-packages (from langcodes<4.0.0,>=3.2.0->spacy<3.8.0,>=3.7.2->en-core-web-lg==3.7.1) (1.3.0)\n",
            "Requirement already satisfied: annotated-types>=0.6.0 in /usr/local/lib/python3.10/dist-packages (from pydantic!=1.8,!=1.8.1,<3.0.0,>=1.7.4->spacy<3.8.0,>=3.7.2->en-core-web-lg==3.7.1) (0.7.0)\n",
            "Requirement already satisfied: pydantic-core==2.27.1 in /usr/local/lib/python3.10/dist-packages (from pydantic!=1.8,!=1.8.1,<3.0.0,>=1.7.4->spacy<3.8.0,>=3.7.2->en-core-web-lg==3.7.1) (2.27.1)\n",
            "Requirement already satisfied: typing-extensions>=4.12.2 in /usr/local/lib/python3.10/dist-packages (from pydantic!=1.8,!=1.8.1,<3.0.0,>=1.7.4->spacy<3.8.0,>=3.7.2->en-core-web-lg==3.7.1) (4.12.2)\n",
            "Requirement already satisfied: charset-normalizer<4,>=2 in /usr/local/lib/python3.10/dist-packages (from requests<3.0.0,>=2.13.0->spacy<3.8.0,>=3.7.2->en-core-web-lg==3.7.1) (3.4.0)\n",
            "Requirement already satisfied: idna<4,>=2.5 in /usr/local/lib/python3.10/dist-packages (from requests<3.0.0,>=2.13.0->spacy<3.8.0,>=3.7.2->en-core-web-lg==3.7.1) (3.10)\n",
            "Requirement already satisfied: urllib3<3,>=1.21.1 in /usr/local/lib/python3.10/dist-packages (from requests<3.0.0,>=2.13.0->spacy<3.8.0,>=3.7.2->en-core-web-lg==3.7.1) (2.2.3)\n",
            "Requirement already satisfied: certifi>=2017.4.17 in /usr/local/lib/python3.10/dist-packages (from requests<3.0.0,>=2.13.0->spacy<3.8.0,>=3.7.2->en-core-web-lg==3.7.1) (2024.8.30)\n",
            "Requirement already satisfied: blis<0.8.0,>=0.7.8 in /usr/local/lib/python3.10/dist-packages (from thinc<8.3.0,>=8.2.2->spacy<3.8.0,>=3.7.2->en-core-web-lg==3.7.1) (0.7.11)\n",
            "Requirement already satisfied: confection<1.0.0,>=0.0.1 in /usr/local/lib/python3.10/dist-packages (from thinc<8.3.0,>=8.2.2->spacy<3.8.0,>=3.7.2->en-core-web-lg==3.7.1) (0.1.5)\n",
            "Requirement already satisfied: click>=8.0.0 in /usr/local/lib/python3.10/dist-packages (from typer<1.0.0,>=0.3.0->spacy<3.8.0,>=3.7.2->en-core-web-lg==3.7.1) (8.1.7)\n",
            "Requirement already satisfied: shellingham>=1.3.0 in /usr/local/lib/python3.10/dist-packages (from typer<1.0.0,>=0.3.0->spacy<3.8.0,>=3.7.2->en-core-web-lg==3.7.1) (1.5.4)\n",
            "Requirement already satisfied: rich>=10.11.0 in /usr/local/lib/python3.10/dist-packages (from typer<1.0.0,>=0.3.0->spacy<3.8.0,>=3.7.2->en-core-web-lg==3.7.1) (13.9.4)\n",
            "Requirement already satisfied: cloudpathlib<1.0.0,>=0.7.0 in /usr/local/lib/python3.10/dist-packages (from weasel<0.5.0,>=0.1.0->spacy<3.8.0,>=3.7.2->en-core-web-lg==3.7.1) (0.20.0)\n",
            "Requirement already satisfied: smart-open<8.0.0,>=5.2.1 in /usr/local/lib/python3.10/dist-packages (from weasel<0.5.0,>=0.1.0->spacy<3.8.0,>=3.7.2->en-core-web-lg==3.7.1) (7.0.5)\n",
            "Requirement already satisfied: MarkupSafe>=2.0 in /usr/local/lib/python3.10/dist-packages (from jinja2->spacy<3.8.0,>=3.7.2->en-core-web-lg==3.7.1) (3.0.2)\n",
            "Requirement already satisfied: marisa-trie>=1.1.0 in /usr/local/lib/python3.10/dist-packages (from language-data>=1.2->langcodes<4.0.0,>=3.2.0->spacy<3.8.0,>=3.7.2->en-core-web-lg==3.7.1) (1.2.1)\n",
            "Requirement already satisfied: markdown-it-py>=2.2.0 in /usr/local/lib/python3.10/dist-packages (from rich>=10.11.0->typer<1.0.0,>=0.3.0->spacy<3.8.0,>=3.7.2->en-core-web-lg==3.7.1) (3.0.0)\n",
            "Requirement already satisfied: pygments<3.0.0,>=2.13.0 in /usr/local/lib/python3.10/dist-packages (from rich>=10.11.0->typer<1.0.0,>=0.3.0->spacy<3.8.0,>=3.7.2->en-core-web-lg==3.7.1) (2.18.0)\n",
            "Requirement already satisfied: wrapt in /usr/local/lib/python3.10/dist-packages (from smart-open<8.0.0,>=5.2.1->weasel<0.5.0,>=0.1.0->spacy<3.8.0,>=3.7.2->en-core-web-lg==3.7.1) (1.17.0)\n",
            "Requirement already satisfied: mdurl~=0.1 in /usr/local/lib/python3.10/dist-packages (from markdown-it-py>=2.2.0->rich>=10.11.0->typer<1.0.0,>=0.3.0->spacy<3.8.0,>=3.7.2->en-core-web-lg==3.7.1) (0.1.2)\n",
            "Installing collected packages: en-core-web-lg\n",
            "Successfully installed en-core-web-lg-3.7.1\n",
            "\u001b[38;5;2m✔ Download and installation successful\u001b[0m\n",
            "You can now load the package via spacy.load('en_core_web_lg')\n",
            "\u001b[38;5;3m⚠ Restart to reload dependencies\u001b[0m\n",
            "If you are in a Jupyter or Colab notebook, you may need to restart Python in\n",
            "order to load all the package's dependencies. You can do this by selecting the\n",
            "'Restart kernel' or 'Restart runtime' option.\n"
          ]
        }
      ]
    },
    {
      "cell_type": "code",
      "source": [
        "import spacy\n",
        "\n",
        "nlp = spacy.load(\"en_core_web_lg\")"
      ],
      "metadata": {
        "id": "weU3QnrUiP_Z"
      },
      "execution_count": 17,
      "outputs": []
    },
    {
      "cell_type": "code",
      "source": [
        "from presidio_anonymizer import AnonymizerEngine\n",
        "from presidio_analyzer import AnalyzerEngine, EntityRecognizer, RecognizerResult, Pattern, PatternRecognizer\n",
        "\n",
        "from presidio_analyzer.nlp_engine import NlpArtifacts,NlpEngineProvider\n"
      ],
      "metadata": {
        "id": "6rYe0edLK3TB"
      },
      "execution_count": 18,
      "outputs": []
    },
    {
      "cell_type": "code",
      "source": [
        "configuration = {\"nlp_engine_name\":\"spacy\", \"models\":[{\"lang_code\":\"en\", \"model_name\":\"en_core_web_lg\"}]}\n",
        "\n",
        "\n",
        "provider = NlpEngineProvider(nlp_configuration=configuration)\n",
        "\n",
        "nlp_engine = provider.create_engine()\n",
        "\n",
        "\n",
        "analyzer = AnalyzerEngine(\n",
        "    nlp_engine=nlp_engine,\n",
        "    supported_languages = ['en']\n",
        ")"
      ],
      "metadata": {
        "id": "tGLP7z2PK5B1",
        "colab": {
          "base_uri": "https://localhost:8080/"
        },
        "collapsed": true,
        "outputId": "bfa9bcb4-e21f-4b1e-cec3-deb2b9e8e49b"
      },
      "execution_count": 19,
      "outputs": [
        {
          "output_type": "stream",
          "name": "stderr",
          "text": [
            "WARNING:presidio-analyzer:model_to_presidio_entity_mapping is missing from configuration, using default\n",
            "WARNING:presidio-analyzer:low_score_entity_names is missing from configuration, using default\n",
            "WARNING:presidio-analyzer:labels_to_ignore is missing from configuration, using default\n",
            "/usr/local/lib/python3.10/dist-packages/spacy/util.py:1740: UserWarning: [W111] Jupyter notebook detected: if using `prefer_gpu()` or `require_gpu()`, include it in the same cell right before `spacy.load()` to ensure that the model is loaded on the correct device. More information: http://spacy.io/usage/v3#jupyter-notebook-gpu\n",
            "  warnings.warn(Warnings.W111)\n",
            "WARNING:presidio-analyzer:Recognizer not added to registry because language is not supported by registry - CreditCardRecognizer supported languages: es, registry supported languages: en\n",
            "WARNING:presidio-analyzer:Recognizer not added to registry because language is not supported by registry - CreditCardRecognizer supported languages: it, registry supported languages: en\n",
            "WARNING:presidio-analyzer:Recognizer not added to registry because language is not supported by registry - CreditCardRecognizer supported languages: pl, registry supported languages: en\n",
            "WARNING:presidio-analyzer:Recognizer not added to registry because language is not supported by registry - EsNifRecognizer supported languages: es, registry supported languages: en\n",
            "WARNING:presidio-analyzer:Recognizer not added to registry because language is not supported by registry - EsNieRecognizer supported languages: es, registry supported languages: en\n",
            "WARNING:presidio-analyzer:Recognizer not added to registry because language is not supported by registry - ItDriverLicenseRecognizer supported languages: it, registry supported languages: en\n",
            "WARNING:presidio-analyzer:Recognizer not added to registry because language is not supported by registry - ItFiscalCodeRecognizer supported languages: it, registry supported languages: en\n",
            "WARNING:presidio-analyzer:Recognizer not added to registry because language is not supported by registry - ItVatCodeRecognizer supported languages: it, registry supported languages: en\n",
            "WARNING:presidio-analyzer:Recognizer not added to registry because language is not supported by registry - ItIdentityCardRecognizer supported languages: it, registry supported languages: en\n",
            "WARNING:presidio-analyzer:Recognizer not added to registry because language is not supported by registry - ItPassportRecognizer supported languages: it, registry supported languages: en\n",
            "WARNING:presidio-analyzer:Recognizer not added to registry because language is not supported by registry - PlPeselRecognizer supported languages: pl, registry supported languages: en\n"
          ]
        }
      ]
    },
    {
      "cell_type": "code",
      "source": [
        "result = analyzer.analyze(text=transcript_result['text'], language='en')"
      ],
      "metadata": {
        "id": "G0647MAbLSnA"
      },
      "execution_count": 58,
      "outputs": []
    },
    {
      "cell_type": "code",
      "source": [
        "result"
      ],
      "metadata": {
        "colab": {
          "base_uri": "https://localhost:8080/"
        },
        "id": "G7PsrSgKuOWE",
        "outputId": "ca0d59b6-1a25-4453-8707-fe5410e63961"
      },
      "execution_count": 59,
      "outputs": [
        {
          "output_type": "execute_result",
          "data": {
            "text/plain": [
              "[type: PERSON, start: 16, end: 26, score: 0.85,\n",
              " type: DATE_TIME, start: 163, end: 172, score: 0.85,\n",
              " type: PERSON, start: 178, end: 186, score: 0.85,\n",
              " type: DATE_TIME, start: 230, end: 235, score: 0.85,\n",
              " type: US_DRIVER_LICENSE, start: 146, end: 152, score: 0.3,\n",
              " type: IN_VEHICLE_REGISTRATION, start: 146, end: 152, score: 0.01]"
            ]
          },
          "metadata": {},
          "execution_count": 59
        }
      ]
    },
    {
      "cell_type": "code",
      "source": [
        "result_dicts = [obj.to_dict() for obj in result]"
      ],
      "metadata": {
        "id": "oOtml6bOwIzk"
      },
      "execution_count": 75,
      "outputs": []
    },
    {
      "cell_type": "code",
      "source": [
        "for obj in result_dicts:\n",
        "    obj['word'] = transcript_result['text'][obj['start']:obj['end']]"
      ],
      "metadata": {
        "id": "AVvPW_9-weBo"
      },
      "execution_count": 76,
      "outputs": []
    },
    {
      "cell_type": "code",
      "source": [
        "result_dicts"
      ],
      "metadata": {
        "colab": {
          "base_uri": "https://localhost:8080/"
        },
        "id": "RrTRGsRlwGFW",
        "outputId": "c07f6db2-7d8e-4a98-b066-48c803d9a112"
      },
      "execution_count": 77,
      "outputs": [
        {
          "output_type": "execute_result",
          "data": {
            "text/plain": [
              "[{'entity_type': 'PERSON',\n",
              "  'start': 16,\n",
              "  'end': 26,\n",
              "  'score': 0.85,\n",
              "  'analysis_explanation': None,\n",
              "  'recognition_metadata': {'recognizer_name': 'SpacyRecognizer',\n",
              "   'recognizer_identifier': 'SpacyRecognizer_138684627599520'},\n",
              "  'word': 'John Smith'},\n",
              " {'entity_type': 'DATE_TIME',\n",
              "  'start': 163,\n",
              "  'end': 172,\n",
              "  'score': 0.85,\n",
              "  'analysis_explanation': None,\n",
              "  'recognition_metadata': {'recognizer_name': 'SpacyRecognizer',\n",
              "   'recognizer_identifier': 'SpacyRecognizer_138684627599520'},\n",
              "  'word': 'yesterday'},\n",
              " {'entity_type': 'PERSON',\n",
              "  'start': 178,\n",
              "  'end': 186,\n",
              "  'score': 0.85,\n",
              "  'analysis_explanation': None,\n",
              "  'recognition_metadata': {'recognizer_name': 'SpacyRecognizer',\n",
              "   'recognizer_identifier': 'SpacyRecognizer_138684627599520'},\n",
              "  'word': 'Stephane'},\n",
              " {'entity_type': 'DATE_TIME',\n",
              "  'start': 230,\n",
              "  'end': 235,\n",
              "  'score': 0.85,\n",
              "  'analysis_explanation': None,\n",
              "  'recognition_metadata': {'recognizer_name': 'SpacyRecognizer',\n",
              "   'recognizer_identifier': 'SpacyRecognizer_138684627599520'},\n",
              "  'word': 'today'},\n",
              " {'entity_type': 'US_DRIVER_LICENSE',\n",
              "  'start': 146,\n",
              "  'end': 152,\n",
              "  'score': 0.3,\n",
              "  'analysis_explanation': None,\n",
              "  'recognition_metadata': {'recognizer_name': 'UsLicenseRecognizer',\n",
              "   'recognizer_identifier': 'UsLicenseRecognizer_138684627599856'},\n",
              "  'word': 'FT7890'},\n",
              " {'entity_type': 'IN_VEHICLE_REGISTRATION',\n",
              "  'start': 146,\n",
              "  'end': 152,\n",
              "  'score': 0.01,\n",
              "  'analysis_explanation': None,\n",
              "  'recognition_metadata': {'recognizer_name': 'InVehicleRegistrationRecognizer',\n",
              "   'recognizer_identifier': 'InVehicleRegistrationRecognizer_138684627600144'},\n",
              "  'word': 'FT7890'}]"
            ]
          },
          "metadata": {},
          "execution_count": 77
        }
      ]
    },
    {
      "cell_type": "markdown",
      "source": [
        "## Replacing PII words with Beep Sound"
      ],
      "metadata": {
        "id": "GBAs3ocxHOVa"
      }
    },
    {
      "cell_type": "code",
      "source": [
        "!pip install librosa Unidecode pydub"
      ],
      "metadata": {
        "id": "p0kcQW-sHR53",
        "colab": {
          "base_uri": "https://localhost:8080/"
        },
        "collapsed": true,
        "outputId": "617c0d03-6f87-45fc-ab56-44ec3eb8cc58"
      },
      "execution_count": 34,
      "outputs": [
        {
          "output_type": "stream",
          "name": "stdout",
          "text": [
            "Requirement already satisfied: librosa in /usr/local/lib/python3.10/dist-packages (0.10.2.post1)\n",
            "Collecting Unidecode\n",
            "  Downloading Unidecode-1.3.8-py3-none-any.whl.metadata (13 kB)\n",
            "Collecting pydub\n",
            "  Downloading pydub-0.25.1-py2.py3-none-any.whl.metadata (1.4 kB)\n",
            "Requirement already satisfied: audioread>=2.1.9 in /usr/local/lib/python3.10/dist-packages (from librosa) (3.0.1)\n",
            "Requirement already satisfied: numpy!=1.22.0,!=1.22.1,!=1.22.2,>=1.20.3 in /usr/local/lib/python3.10/dist-packages (from librosa) (1.26.4)\n",
            "Requirement already satisfied: scipy>=1.2.0 in /usr/local/lib/python3.10/dist-packages (from librosa) (1.13.1)\n",
            "Requirement already satisfied: scikit-learn>=0.20.0 in /usr/local/lib/python3.10/dist-packages (from librosa) (1.5.2)\n",
            "Requirement already satisfied: joblib>=0.14 in /usr/local/lib/python3.10/dist-packages (from librosa) (1.4.2)\n",
            "Requirement already satisfied: decorator>=4.3.0 in /usr/local/lib/python3.10/dist-packages (from librosa) (4.4.2)\n",
            "Requirement already satisfied: numba>=0.51.0 in /usr/local/lib/python3.10/dist-packages (from librosa) (0.60.0)\n",
            "Requirement already satisfied: soundfile>=0.12.1 in /usr/local/lib/python3.10/dist-packages (from librosa) (0.12.1)\n",
            "Requirement already satisfied: pooch>=1.1 in /usr/local/lib/python3.10/dist-packages (from librosa) (1.8.2)\n",
            "Requirement already satisfied: soxr>=0.3.2 in /usr/local/lib/python3.10/dist-packages (from librosa) (0.5.0.post1)\n",
            "Requirement already satisfied: typing-extensions>=4.1.1 in /usr/local/lib/python3.10/dist-packages (from librosa) (4.12.2)\n",
            "Requirement already satisfied: lazy-loader>=0.1 in /usr/local/lib/python3.10/dist-packages (from librosa) (0.4)\n",
            "Requirement already satisfied: msgpack>=1.0 in /usr/local/lib/python3.10/dist-packages (from librosa) (1.1.0)\n",
            "Requirement already satisfied: packaging in /usr/local/lib/python3.10/dist-packages (from lazy-loader>=0.1->librosa) (24.2)\n",
            "Requirement already satisfied: llvmlite<0.44,>=0.43.0dev0 in /usr/local/lib/python3.10/dist-packages (from numba>=0.51.0->librosa) (0.43.0)\n",
            "Requirement already satisfied: platformdirs>=2.5.0 in /usr/local/lib/python3.10/dist-packages (from pooch>=1.1->librosa) (4.3.6)\n",
            "Requirement already satisfied: requests>=2.19.0 in /usr/local/lib/python3.10/dist-packages (from pooch>=1.1->librosa) (2.32.3)\n",
            "Requirement already satisfied: threadpoolctl>=3.1.0 in /usr/local/lib/python3.10/dist-packages (from scikit-learn>=0.20.0->librosa) (3.5.0)\n",
            "Requirement already satisfied: cffi>=1.0 in /usr/local/lib/python3.10/dist-packages (from soundfile>=0.12.1->librosa) (1.17.1)\n",
            "Requirement already satisfied: pycparser in /usr/local/lib/python3.10/dist-packages (from cffi>=1.0->soundfile>=0.12.1->librosa) (2.22)\n",
            "Requirement already satisfied: charset-normalizer<4,>=2 in /usr/local/lib/python3.10/dist-packages (from requests>=2.19.0->pooch>=1.1->librosa) (3.4.0)\n",
            "Requirement already satisfied: idna<4,>=2.5 in /usr/local/lib/python3.10/dist-packages (from requests>=2.19.0->pooch>=1.1->librosa) (3.10)\n",
            "Requirement already satisfied: urllib3<3,>=1.21.1 in /usr/local/lib/python3.10/dist-packages (from requests>=2.19.0->pooch>=1.1->librosa) (2.2.3)\n",
            "Requirement already satisfied: certifi>=2017.4.17 in /usr/local/lib/python3.10/dist-packages (from requests>=2.19.0->pooch>=1.1->librosa) (2024.8.30)\n",
            "Downloading Unidecode-1.3.8-py3-none-any.whl (235 kB)\n",
            "\u001b[2K   \u001b[90m━━━━━━━━━━━━━━━━━━━━━━━━━━━━━━━━━━━━━━━━\u001b[0m \u001b[32m235.5/235.5 kB\u001b[0m \u001b[31m14.0 MB/s\u001b[0m eta \u001b[36m0:00:00\u001b[0m\n",
            "\u001b[?25hDownloading pydub-0.25.1-py2.py3-none-any.whl (32 kB)\n",
            "Installing collected packages: pydub, Unidecode\n",
            "Successfully installed Unidecode-1.3.8 pydub-0.25.1\n"
          ]
        }
      ]
    },
    {
      "cell_type": "code",
      "source": [
        "from unidecode import unidecode\n",
        "from pydub import AudioSegment\n",
        "import librosa\n",
        "import numpy as np\n",
        "\n",
        "# Soundfile is used to export the new anonymized audio\n",
        "import soundfile as sf"
      ],
      "metadata": {
        "id": "m-Vwbd6OvPBl"
      },
      "execution_count": 79,
      "outputs": []
    },
    {
      "cell_type": "code",
      "source": [
        "def map_words(text_details, anonymized):\n",
        "    \"\"\"\n",
        "        Used to map detected words to anonymize with transcription details, returns list of words with time range (start, end)\n",
        "    \"\"\"\n",
        "    mapped_words = []\n",
        "    not_found_words = []\n",
        "\n",
        "    for anon_word in anonymized:\n",
        "        splitted_text = anon_word['word'].strip().split(' ')\n",
        "\n",
        "        for word in splitted_text:\n",
        "            if len(word) <= 3:\n",
        "                matches = [detail for detail in text_details if unidecode(detail['text'].lower()) == (unidecode(word.lower()))]\n",
        "            else:\n",
        "                matches = [detail for detail in text_details if unidecode(detail['text'].lower()).__contains__(unidecode(word.lower()))]\n",
        "\n",
        "            # Match words ignoring case and accents\n",
        "            if matches:\n",
        "                mapped_words.extend(matches)\n",
        "                for match in matches:\n",
        "                    text_details.remove(match)\n",
        "\n",
        "            else:\n",
        "                #print(\"Word Not Found:\", word)\n",
        "                not_found_words.append(word)\n",
        "\n",
        "    # Potential enhancement: sometimes audio has names spelled such as C-H-R-I-S-T-O-P-H-E\n",
        "    # We can add custom regex detector in Presidio and custom logic to map words\n",
        "\n",
        "\n",
        "    return mapped_words"
      ],
      "metadata": {
        "id": "WMUlRFZZvfzt"
      },
      "execution_count": 80,
      "outputs": []
    },
    {
      "cell_type": "code",
      "source": [
        "def anonymize_audio(audio_file, time_ranges, output_file = \"anonymized_audio.mp3\"):\n",
        "  \"\"\"\n",
        "    The following function inserts Beep sound to the input_file, following the specified time_range and writes the output_file\n",
        "  \"\"\"\n",
        "\n",
        "  y, sr = librosa.load(audio_file)\n",
        "  # Split the audio signal at the specified time (in seconds)\n",
        "  for t_range in time_ranges:\n",
        "    start = float(t_range['start'])\n",
        "    end = float(t_range['end'])\n",
        "    duration = end - start\n",
        "    first_part = y[:int(start * sr)]\n",
        "    second_part = y[int(end * sr):]\n",
        "\n",
        "    # In case you want to replace the PII with Beep sound\n",
        "    beep = librosa.tone(440, duration=(duration))\n",
        "\n",
        "    # In this demo we are setting volume level to 0\n",
        "    beep = beep * 0\n",
        "\n",
        "    # Concatenate the beep sound with the first and second part of the audio\n",
        "    y = np.concatenate((first_part, beep, second_part))\n",
        "\n",
        "  # Save the audio\n",
        "  sf.write(output_file, y, sr)\n",
        "\n",
        "  return output_file"
      ],
      "metadata": {
        "id": "F9mMGM2PvhwA"
      },
      "execution_count": 81,
      "outputs": []
    },
    {
      "cell_type": "code",
      "source": [
        "anonymized_words = map_words(words_details, result_dicts)"
      ],
      "metadata": {
        "id": "TJ1vFUXBvjry"
      },
      "execution_count": 82,
      "outputs": []
    },
    {
      "cell_type": "code",
      "source": [
        "anonymized_words"
      ],
      "metadata": {
        "colab": {
          "base_uri": "https://localhost:8080/"
        },
        "id": "lLyzvO7rw9Lk",
        "outputId": "2a96dd8e-2dc8-49e1-eb17-9b6669650386"
      },
      "execution_count": 83,
      "outputs": [
        {
          "output_type": "execute_result",
          "data": {
            "text/plain": [
              "[{'text': 'John', 'start': 1.0, 'end': 1.3, 'confidence': 0.779},\n",
              " {'text': 'Smith', 'start': 1.3, 'end': 1.64, 'confidence': 0.982},\n",
              " {'text': 'yesterday,', 'start': 12.36, 'end': 12.9, 'confidence': 0.993},\n",
              " {'text': 'Stephane', 'start': 13.42, 'end': 13.92, 'confidence': 0.561},\n",
              " {'text': 'today.', 'start': 15.6, 'end': 15.98, 'confidence': 0.951},\n",
              " {'text': 'FT7890.', 'start': 10.24, 'end': 11.86, 'confidence': 0.49}]"
            ]
          },
          "metadata": {},
          "execution_count": 83
        }
      ]
    },
    {
      "cell_type": "code",
      "source": [
        "anonymized_audio = anonymize_audio(\"input_audio.mp3\", anonymized_words)"
      ],
      "metadata": {
        "id": "OfCT82QKvoAc"
      },
      "execution_count": 84,
      "outputs": []
    },
    {
      "cell_type": "code",
      "source": [
        "anonymized_audio"
      ],
      "metadata": {
        "colab": {
          "base_uri": "https://localhost:8080/",
          "height": 35
        },
        "id": "x1KliVqJxLqj",
        "outputId": "c09b1d4e-b4f7-4710-a72c-2beaaee72771"
      },
      "execution_count": 73,
      "outputs": [
        {
          "output_type": "execute_result",
          "data": {
            "text/plain": [
              "'anonymized_audio.mp3'"
            ],
            "application/vnd.google.colaboratory.intrinsic+json": {
              "type": "string"
            }
          },
          "metadata": {},
          "execution_count": 73
        }
      ]
    },
    {
      "cell_type": "code",
      "source": [
        "from IPython.display import Audio\n",
        "Audio(anonymized_audio)"
      ],
      "metadata": {
        "colab": {
          "base_uri": "https://localhost:8080/",
          "height": 75
        },
        "id": "_VnJ8ax4xMpv",
        "outputId": "3e5f6001-af28-4617-fae2-203a002310f1"
      },
      "execution_count": 74,
      "outputs": [
        {
          "output_type": "execute_result",
          "data": {
            "text/plain": [
              "<IPython.lib.display.Audio object>"
            ],
            "text/html": [
              "\n",
              "                <audio  controls=\"controls\" >\n",
              "                    <source src=\"data:audio/mpeg;base64,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\" type=\"audio/mpeg\" />\n",
              "                    Your browser does not support the audio element.\n",
              "                </audio>\n",
              "              "
            ]
          },
          "metadata": {},
          "execution_count": 74
        }
      ]
    },
    {
      "cell_type": "code",
      "source": [],
      "metadata": {
        "id": "lf_BS-TyxlCD"
      },
      "execution_count": null,
      "outputs": []
    }
  ]
}